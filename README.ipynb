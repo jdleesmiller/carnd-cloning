{
 "cells": [
  {
   "cell_type": "code",
   "execution_count": 1,
   "metadata": {
    "collapsed": false
   },
   "outputs": [],
   "source": [
    "%load_ext autoreload\n",
    "%autoreload 2\n",
    "%matplotlib inline"
   ]
  },
  {
   "cell_type": "code",
   "execution_count": 2,
   "metadata": {
    "collapsed": false
   },
   "outputs": [
    {
     "name": "stderr",
     "output_type": "stream",
     "text": [
      "Using TensorFlow backend.\n"
     ]
    }
   ],
   "source": [
    "import gzip\n",
    "import os\n",
    "import pickle\n",
    "import platform\n",
    "\n",
    "import cv2\n",
    "import math\n",
    "import matplotlib.pyplot as plt\n",
    "import numpy as np\n",
    "import pandas as pd\n",
    "from scipy.misc import imread\n",
    "\n",
    "from common import * \n",
    "import preprocess\n",
    "import model_io"
   ]
  },
  {
   "cell_type": "markdown",
   "metadata": {},
   "source": [
    "# Base Model\n",
    "\n",
    "The full inception model is too slow for real time use on my laptop, so I am just using the first few layers.\n",
    "\n",
    "Loading the whole inception model is also very slow, so cut out only the weights we need and save them for loading later."
   ]
  },
  {
   "cell_type": "code",
   "execution_count": 3,
   "metadata": {
    "collapsed": false
   },
   "outputs": [],
   "source": [
    "import inception\n",
    "import model_io\n",
    "\n",
    "CUT_INDEX=44\n",
    "\n",
    "if not os.path.exists(base_model_stem(CUT_INDEX) + '.json'):\n",
    "    model_io.save_model(\n",
    "        base_model_stem(CUT_INDEX) + '.json',\n",
    "        base_model_stem(CUT_INDEX) + '.h5',\n",
    "        inception.make_cut_model(CUT_INDEX))"
   ]
  },
  {
   "cell_type": "code",
   "execution_count": null,
   "metadata": {
    "collapsed": false
   },
   "outputs": [],
   "source": [
    "model_io.load_base_model(CUT_INDEX).summary()"
   ]
  },
  {
   "cell_type": "markdown",
   "metadata": {},
   "source": [
    "# Preprocessing\n",
    "\n",
    "- Correct the image file paths, since I have several driving logs in different folders.\n",
    "- Smooth the control inputs. The input from me is quite spikey, because all I can do is press a button or not. This seems like it would make learning quite difficult, so apply smoothing.\n",
    "- Bottleneck the features to make training reasonably fast."
   ]
  },
  {
   "cell_type": "code",
   "execution_count": 4,
   "metadata": {
    "collapsed": false,
    "scrolled": false
   },
   "outputs": [
    {
     "name": "stdout",
     "output_type": "stream",
     "text": [
      "data/ccw_2/bottleneck_44 exists; just binding.\n",
      "data/cw_2/bottleneck_44 exists; just binding.\n",
      "data/ccw_recover_from_right_1/bottleneck_44 exists; just binding.\n",
      "data/ccw_recover_from_left_1/bottleneck_44 exists; just binding.\n",
      "data/cw_recover_from_right_1/bottleneck_44 exists; just binding.\n",
      "data/cw_recover_from_left_1/bottleneck_44 exists; just binding.\n",
      "data/ccw_turnout_1/bottleneck_44 exists; just binding.\n",
      "index 0\n",
      "index 50\n",
      "index 100\n",
      "index 150\n",
      "index 200\n",
      "index 250\n",
      "index 300\n",
      "index 350\n",
      "index 400\n",
      "index 450\n",
      "index 500\n",
      "                                        center_image  \\\n",
      "0  data/ccw_2/IMG/center_2016_12_10_17_02_46_943.jpg   \n",
      "1  data/ccw_2/IMG/center_2016_12_10_17_02_47_043.jpg   \n",
      "2  data/ccw_2/IMG/center_2016_12_10_17_02_47_143.jpg   \n",
      "3  data/ccw_2/IMG/center_2016_12_10_17_02_47_259.jpg   \n",
      "4  data/ccw_2/IMG/center_2016_12_10_17_02_47_360.jpg   \n",
      "\n",
      "                                        left_image  \\\n",
      "0  data/ccw_2/IMG/left_2016_12_10_17_02_46_943.jpg   \n",
      "1  data/ccw_2/IMG/left_2016_12_10_17_02_47_043.jpg   \n",
      "2  data/ccw_2/IMG/left_2016_12_10_17_02_47_143.jpg   \n",
      "3  data/ccw_2/IMG/left_2016_12_10_17_02_47_259.jpg   \n",
      "4  data/ccw_2/IMG/left_2016_12_10_17_02_47_360.jpg   \n",
      "\n",
      "                                        right_image  steering_angle  throttle  \\\n",
      "0  data/ccw_2/IMG/right_2016_12_10_17_02_46_943.jpg             0.0       0.0   \n",
      "1  data/ccw_2/IMG/right_2016_12_10_17_02_47_043.jpg             0.0       0.0   \n",
      "2  data/ccw_2/IMG/right_2016_12_10_17_02_47_143.jpg             0.0       0.0   \n",
      "3  data/ccw_2/IMG/right_2016_12_10_17_02_47_259.jpg             0.0       0.0   \n",
      "4  data/ccw_2/IMG/right_2016_12_10_17_02_47_360.jpg             0.0       0.0   \n",
      "\n",
      "   brake     speed                    time dataset  smooth_steering_angle_1  \\\n",
      "0      0  0.000079 2016-12-10 17:02:46.943   ccw_2                -0.030136   \n",
      "1      0  0.000079 2016-12-10 17:02:47.043   ccw_2                -0.033305   \n",
      "2      0  0.000078 2016-12-10 17:02:47.143   ccw_2                -0.036808   \n",
      "3      0  0.000078 2016-12-10 17:02:47.259   ccw_2                -0.041335   \n",
      "4      0  0.000078 2016-12-10 17:02:47.360   ccw_2                -0.045728   \n",
      "\n",
      "   smooth_throttle_1  smooth_brake_1  smooth_steering_angle_gaussian_3  \\\n",
      "0           0.124718             0.0                         -0.000397   \n",
      "1           0.137835             0.0                         -0.000872   \n",
      "2           0.152331             0.0                         -0.002138   \n",
      "3           0.171067             0.0                         -0.004856   \n",
      "4           0.189248             0.0                         -0.009930   \n",
      "\n",
      "   smooth_throttle_gaussian_3  smooth_brake_gaussian_3  \\\n",
      "0                    0.004798                        0   \n",
      "1                    0.009238                        0   \n",
      "2                    0.020215                        0   \n",
      "3                    0.041763                        0   \n",
      "4                    0.079225                        0   \n",
      "\n",
      "   smooth_steering_angle_gaussian_5  smooth_throttle_gaussian_5  \\\n",
      "0                         -0.010688                    0.080049   \n",
      "1                         -0.012335                    0.091355   \n",
      "2                         -0.015646                    0.113850   \n",
      "3                         -0.020634                    0.147185   \n",
      "4                         -0.027281                    0.190588   \n",
      "\n",
      "   smooth_brake_gaussian_5                bottleneck_features  \n",
      "0                        0  data/ccw_2/bottleneck_44/0000.npz  \n",
      "1                        0  data/ccw_2/bottleneck_44/0001.npz  \n",
      "2                        0  data/ccw_2/bottleneck_44/0002.npz  \n",
      "3                        0  data/ccw_2/bottleneck_44/0003.npz  \n",
      "4                        0  data/ccw_2/bottleneck_44/0004.npz  \n"
     ]
    }
   ],
   "source": [
    "log = pd.concat([\n",
    "#     preprocess.run('data/ccw_1', CUT_INDEX),\n",
    "#     preprocess.run('data/cw_1', CUT_INDEX),\n",
    "    preprocess.run('data/ccw_2', CUT_INDEX),\n",
    "    preprocess.run('data/cw_2', CUT_INDEX),\n",
    "    preprocess.run('data/ccw_recover_from_right_1', CUT_INDEX),\n",
    "    preprocess.run('data/ccw_recover_from_left_1', CUT_INDEX),\n",
    "    preprocess.run('data/cw_recover_from_right_1', CUT_INDEX),\n",
    "    preprocess.run('data/cw_recover_from_left_1', CUT_INDEX),\n",
    "    preprocess.run('data/ccw_turnout_1', CUT_INDEX),\n",
    "    preprocess.run('data/ccw_turnout_2', CUT_INDEX)\n",
    "])\n",
    "print(log.head())"
   ]
  },
  {
   "cell_type": "markdown",
   "metadata": {},
   "source": [
    "## Dataset Summary\n"
   ]
  },
  {
   "cell_type": "code",
   "execution_count": 5,
   "metadata": {
    "collapsed": false
   },
   "outputs": [
    {
     "data": {
      "text/html": [
       "<div>\n",
       "<table border=\"1\" class=\"dataframe\">\n",
       "  <thead>\n",
       "    <tr style=\"text-align: right;\">\n",
       "      <th></th>\n",
       "      <th>len</th>\n",
       "      <th>speed</th>\n",
       "      <th>steering_angle</th>\n",
       "    </tr>\n",
       "    <tr>\n",
       "      <th>dataset</th>\n",
       "      <th></th>\n",
       "      <th></th>\n",
       "      <th></th>\n",
       "    </tr>\n",
       "  </thead>\n",
       "  <tbody>\n",
       "    <tr>\n",
       "      <th>ccw_2</th>\n",
       "      <td>2882</td>\n",
       "      <td>8.833225</td>\n",
       "      <td>-0.041838</td>\n",
       "    </tr>\n",
       "    <tr>\n",
       "      <th>ccw_recover_from_left_1</th>\n",
       "      <td>1405</td>\n",
       "      <td>11.775736</td>\n",
       "      <td>0.050748</td>\n",
       "    </tr>\n",
       "    <tr>\n",
       "      <th>ccw_recover_from_right_1</th>\n",
       "      <td>1361</td>\n",
       "      <td>10.212416</td>\n",
       "      <td>-0.123761</td>\n",
       "    </tr>\n",
       "    <tr>\n",
       "      <th>ccw_turnout_1</th>\n",
       "      <td>713</td>\n",
       "      <td>9.905384</td>\n",
       "      <td>-0.085719</td>\n",
       "    </tr>\n",
       "    <tr>\n",
       "      <th>ccw_turnout_2</th>\n",
       "      <td>522</td>\n",
       "      <td>9.295456</td>\n",
       "      <td>-0.111309</td>\n",
       "    </tr>\n",
       "    <tr>\n",
       "      <th>cw_2</th>\n",
       "      <td>2391</td>\n",
       "      <td>9.972545</td>\n",
       "      <td>0.036800</td>\n",
       "    </tr>\n",
       "    <tr>\n",
       "      <th>cw_recover_from_left_1</th>\n",
       "      <td>1550</td>\n",
       "      <td>10.484323</td>\n",
       "      <td>0.128920</td>\n",
       "    </tr>\n",
       "    <tr>\n",
       "      <th>cw_recover_from_right_1</th>\n",
       "      <td>1721</td>\n",
       "      <td>8.972610</td>\n",
       "      <td>0.017962</td>\n",
       "    </tr>\n",
       "  </tbody>\n",
       "</table>\n",
       "</div>"
      ],
      "text/plain": [
       "                           len      speed  steering_angle\n",
       "dataset                                                  \n",
       "ccw_2                     2882   8.833225       -0.041838\n",
       "ccw_recover_from_left_1   1405  11.775736        0.050748\n",
       "ccw_recover_from_right_1  1361  10.212416       -0.123761\n",
       "ccw_turnout_1              713   9.905384       -0.085719\n",
       "ccw_turnout_2              522   9.295456       -0.111309\n",
       "cw_2                      2391   9.972545        0.036800\n",
       "cw_recover_from_left_1    1550  10.484323        0.128920\n",
       "cw_recover_from_right_1   1721   8.972610        0.017962"
      ]
     },
     "execution_count": 5,
     "metadata": {},
     "output_type": "execute_result"
    }
   ],
   "source": [
    "def summarize_dataset():\n",
    "    groups = log.groupby('dataset')\n",
    "    totals = groups['center_image'].agg([len])\n",
    "    mean_speed = groups['speed'].mean()\n",
    "    mean_steering_angle = groups['steering_angle'].mean()\n",
    "    return pd.concat([totals, mean_speed, mean_steering_angle], axis=1)\n",
    "summarize_dataset()"
   ]
  },
  {
   "cell_type": "markdown",
   "metadata": {},
   "source": [
    "## Smoothing\n",
    "\n",
    "I tried two types of smoothing:\n",
    "\n",
    "- Exponential smoothing: an exponential weighted moving average\n",
    "- Gaussian smoothing: a 1D gaussian filter\n",
    "\n",
    "Both seem to track pretty well, but the gaussian smoothing is better at preserving the mean steering angle."
   ]
  },
  {
   "cell_type": "code",
   "execution_count": null,
   "metadata": {
    "collapsed": false
   },
   "outputs": [],
   "source": [
    "def plot_smooth_steering_angle():\n",
    "    df = log[['time', 'steering_angle', 'smooth_steering_angle_1', 'smooth_steering_angle_gaussian_3']]\n",
    "    df = df[:600]\n",
    "    df = df.set_index(['time'])\n",
    "    df.plot(figsize=(12, 6))\n",
    "plot_smooth_steering_angle()"
   ]
  },
  {
   "cell_type": "markdown",
   "metadata": {},
   "source": [
    "## Steering Angle Bias\n",
    "\n",
    "We don't want a lot of bias in the training data. Or maybe this isn't that important... I don't really know."
   ]
  },
  {
   "cell_type": "code",
   "execution_count": null,
   "metadata": {
    "collapsed": false
   },
   "outputs": [],
   "source": [
    "print('raw steering angle bias:', np.mean(log['steering_angle']))\n",
    "print('exponentially smoothed steering angle bias:', np.mean(log['smooth_steering_angle_1']))\n",
    "print('gaussian smoothed steering angle bias:', np.mean(log['smooth_steering_angle_gaussian_5']))"
   ]
  },
  {
   "cell_type": "markdown",
   "metadata": {
    "collapsed": false
   },
   "source": [
    "## Bottleneck Features"
   ]
  },
  {
   "cell_type": "code",
   "execution_count": null,
   "metadata": {
    "collapsed": false
   },
   "outputs": [],
   "source": [
    "def plot_bottleneck_output(num_images, num_channels, image_stride=100):\n",
    "    fig, axes = plt.subplots(num_images, num_channels,\n",
    "                             figsize=(2*num_channels, 2*num_images),\n",
    "                             sharex=True, sharey=True)\n",
    "    for i in range(num_images):\n",
    "        index = i * image_stride\n",
    "        image = np.load(log['bottleneck_features'].values[index])['center_image']\n",
    "        for j in range(num_channels):\n",
    "            axes[i][j].imshow(image[:,:,j], cmap='gray')\n",
    "plot_bottleneck_output(3,5)"
   ]
  },
  {
   "cell_type": "markdown",
   "metadata": {},
   "source": [
    "## Smoothed Steering Video"
   ]
  },
  {
   "cell_type": "code",
   "execution_count": 21,
   "metadata": {
    "collapsed": false
   },
   "outputs": [
    {
     "name": "stdout",
     "output_type": "stream",
     "text": [
      "frame 0\n",
      "frame 50\n"
     ]
    }
   ],
   "source": [
    "def steering_angle_to_radians(steering_angle):\n",
    "    \"\"\"\n",
    "    The recorded steering angle ranges from -1 to 1.\n",
    "    In the sim, it gives values from -25 degrees to 25 degrees.\n",
    "    \"\"\"\n",
    "    return math.radians(steering_angle * 25.0)\n",
    "\n",
    "def draw_steering_angle(image, steering_angle, color, thickness=2):\n",
    "    bottom_x = image.shape[1] / 2.0\n",
    "    bottom_y = image.shape[0]\n",
    "    radius = bottom_y / 2.0\n",
    "    steering_angle_radians = steering_angle_to_radians(steering_angle)\n",
    "    top_x = bottom_x + radius * math.sin(steering_angle_radians)\n",
    "    top_y = bottom_y - radius * math.cos(steering_angle_radians)\n",
    "    bottom_x, bottom_y = int(round(bottom_x)), int(round(bottom_y))\n",
    "    top_x, top_y = int(round(top_x)), int(round(top_y))\n",
    "    cv2.line(image, (bottom_x, bottom_y), (top_x, top_y), color, thickness)\n",
    "\n",
    "def make_steering_movie(\n",
    "    filestem,\n",
    "    log,\n",
    "    smoothed_steering_angle_column,\n",
    "    predicted_steering_angle_column=None):\n",
    "    \n",
    "    if platform.system() == 'Linux':\n",
    "        fourcc = cv2.VideoWriter_fourcc(*'MJPG')\n",
    "        filename = filestem + '.avi'\n",
    "    else:\n",
    "        fourcc = cv2.VideoWriter_fourcc(*'mp4v')        \n",
    "        filename = filestem + '.mp4'\n",
    "    \n",
    "    input_color = [0, 0, 255]\n",
    "    smoothed_color = [0, 255, 0]\n",
    "    predicted_color = [255, 0, 0]\n",
    "    video = cv2.VideoWriter(filename, fourcc, 10, IMAGE_SHAPE[0:2][::-1])\n",
    "    for i in range(len(log)):\n",
    "        if i % 50 == 0:\n",
    "            print('frame', i)\n",
    "        image = imread(log['center_image'].values[i])\n",
    "        steering_angle = log['steering_angle'].values[i]\n",
    "        draw_steering_angle(image, steering_angle, input_color)\n",
    "\n",
    "        smoothed_steering_angle = log[smoothed_steering_angle_column].values[i]\n",
    "        draw_steering_angle(image, smoothed_steering_angle, smoothed_color)\n",
    "        \n",
    "        if predicted_steering_angle_column is not None:\n",
    "            predicted_steering_angle = log[predicted_steering_angle_column].values[i]\n",
    "            draw_steering_angle(image, predicted_steering_angle, predicted_color)\n",
    "\n",
    "        cv2.putText(image, log['center_image'].values[i],\n",
    "                    (20, 20), cv2.FONT_HERSHEY_SIMPLEX, 0.1, 0)\n",
    "            \n",
    "        video.write(cv2.cvtColor(image, cv2.COLOR_BGR2RGB))\n",
    "    video.release()\n",
    "    \n",
    "for dataset in log['dataset'].unique():\n",
    "    make_steering_movie(os.path.join('data', dataset, 'check'),\n",
    "                        log[log['dataset'] == dataset][0:100],\n",
    "                        'smooth_steering_angle_1')\n",
    "    break"
   ]
  },
  {
   "cell_type": "markdown",
   "metadata": {},
   "source": [
    "# Model\n",
    "\n",
    "- I put a 1x1 convolution up front to reduce the depth, in order to make the model a more manageable size.\n",
    "\n",
    "## Experiments with Unsmoothed Steering Angles\n",
    "\n",
    "- Tried just adding a linear model (32--128 units, L2 regularization with weights 0.001--0.01) after the 1x1 convolution, but validation loss generally bottomed out at about MSE 0.04, which is too high. It also tended to diverge, at least with the Adam optimizer.\n",
    "- Tried adding a hidden layer (32-128 units) with ReLU activation and dropout before the linear layer, but that seemed to just predict a small constant steering angle most of the time. Maybe a \"dying relus\" problem. It seems you can get an MSE around 0.05 by just predicting a constant near zero all the time.\n",
    "- So I tried tanh activation instead, but that did not seem to help.\n",
    "- I switched back to L2 regularization with ReLUs, which did a bit better but still understeered.\n",
    "- I think the problem is that it's too easy to just ignore my occasional steering inputs (key presses).\n",
    "\n",
    "## Experiments with Smoothed Steering Angles\n",
    "\n",
    "- Tried the linear model again. No longer predicting constants, but it starts overfitting (increase in validation loss) after only a couple of epochs. Probably going to need something more expressive.\n",
    "- Tried adding hidden layer (32 units) with ReLU activation and L2 regularization (weight 0.01). Still mostly predicting a small constant.\n",
    "- Tried tanh activation on the hidden layer. Now it seems much happier: getting to the bridge and MSE 0.015 with nb_filter=64, nb_hidden=32 and l2_weight=0.01. Still understeering a bit on gentler bends.\n",
    "- Tried reducing L2 weight to 0.005. That seemed to slow down training quite a lot; got to MSE 0.017 after 16 epochs. Still understeering and weaving a bit.\n",
    "- Tried mean absolute error instead of mean squared error, since all of the errors are actually pretty small. New record on first run: made it to the turnout but didn't turn left. MAE 0.0611. Some weaving, but much less understeer. Much better fit in the steering prediction plot; good to see that better fit corresponds to better performance in this case. Adam optimizer diverged after 3 epochs, however.\n",
    "- Tried increasing regularization back to 0.01. That seems to make it get stuck on a constant again.\n",
    "- Tried putting regularization back to 0.005 but using Adagrad instead of Adam. Still getting stuck. Subsequent runs with Adam also getting stuck. Looks like I just got lucky that first time.\n",
    "- Then I tried shrinking the initialization weights (using a normal distribution with scale 0.1). Since doing that, I've had much better luck with convergence.\n",
    "\n",
    "Hall of fame:\n",
    "- models/grid_model_nb_hidden-32label_column-smooth_steering_angle_gaussian_3l2_weight-0.001nb_epoch-30batch_size-128nb_filter-64side_camera_bias-optimizer-adagradversion-4.json\n",
    "- ok_64_32_0.01maybe_1.0bias"
   ]
  },
  {
   "cell_type": "code",
   "execution_count": 6,
   "metadata": {
    "collapsed": true
   },
   "outputs": [],
   "source": [
    "import batch"
   ]
  },
  {
   "cell_type": "code",
   "execution_count": 12,
   "metadata": {
    "collapsed": false
   },
   "outputs": [
    {
     "name": "stdout",
     "output_type": "stream",
     "text": [
      "batches/batch.batch_size-128.label_column-smooth_steering_angle_gaussian_3.random_state-42.side_camera_bias-0.06.test_size-0.2 for batches exists\n"
     ]
    }
   ],
   "source": [
    "batch_params = {\n",
    "    'test_size': 0.2,\n",
    "    'random_state': 42,\n",
    "    'batch_size': 128,\n",
    "    'label_column': 'smooth_steering_angle_gaussian_3',\n",
    "    'side_camera_bias': 1.5/25\n",
    "}\n",
    "nb_train, batch_files_train, nb_val, batch_files_val = \\\n",
    "batch.make_train_val_batches(log, batch_params)"
   ]
  },
  {
   "cell_type": "code",
   "execution_count": 13,
   "metadata": {
    "collapsed": false
   },
   "outputs": [],
   "source": [
    "import model"
   ]
  },
  {
   "cell_type": "code",
   "execution_count": null,
   "metadata": {
    "collapsed": false
   },
   "outputs": [
    {
     "name": "stdout",
     "output_type": "stream",
     "text": [
      "____________________________________________________________________________________________________\n",
      "Layer (type)                     Output Shape          Param #     Connected to                     \n",
      "====================================================================================================\n",
      "convolution2d_2 (Convolution2D)  (None, 17, 37, 64)    16448       convolution2d_input_2[0][0]      \n",
      "____________________________________________________________________________________________________\n",
      "flatten_2 (Flatten)              (None, 40256)         0           convolution2d_2[0][0]            \n",
      "____________________________________________________________________________________________________\n",
      "dense_3 (Dense)                  (None, 32)            1288224     flatten_2[0][0]                  \n",
      "____________________________________________________________________________________________________\n",
      "dense_4 (Dense)                  (None, 1)             33          dense_3[0][0]                    \n",
      "====================================================================================================\n",
      "Total params: 1304705\n",
      "____________________________________________________________________________________________________\n",
      "Epoch 1/20\n",
      "30108/30108 [==============================] - 143s - loss: 75.6862 - val_loss: 0.0871\n",
      "Epoch 2/20\n",
      "30108/30108 [==============================] - 129s - loss: 21.6722 - val_loss: 0.0739\n",
      "Epoch 3/20\n",
      "30108/30108 [==============================] - 134s - loss: 6.4995 - val_loss: 0.0807\n",
      "Epoch 4/20\n",
      "30108/30108 [==============================] - 131s - loss: 2.0502 - val_loss: 0.0709\n",
      "Epoch 5/20\n",
      "30108/30108 [==============================] - 146s - loss: 0.7154 - val_loss: 0.0670\n",
      "Epoch 6/20\n",
      "30108/30108 [==============================] - 143s - loss: 0.2718 - val_loss: 0.0719\n",
      "Epoch 7/20\n",
      "25344/30108 [========================>.....] - ETA: 18s - loss: 0.1453"
     ]
    }
   ],
   "source": [
    "steering_model = model.build(\n",
    "    input_shape=np.load(log['bottleneck_features'].values[0])['center_image'].shape,\n",
    "    nb_filter=64,\n",
    "    nb_hidden=32,\n",
    "    l2_weight=0.01,\n",
    "    optimizer='adam'\n",
    ")\n",
    "\n",
    "history = model.train(\n",
    "    steering_model,\n",
    "    nb_epoch=20,\n",
    "    patience=2,\n",
    "    nb_train=nb_train,\n",
    "    batch_files_train=batch_files_train,\n",
    "    nb_val=nb_val,\n",
    "    batch_files_val=batch_files_val,\n",
    "    save_stem='model')"
   ]
  },
  {
   "cell_type": "code",
   "execution_count": 19,
   "metadata": {
    "collapsed": false
   },
   "outputs": [],
   "source": [
    "# load model with best validation loss\n",
    "steering_model = model_io.load_model('model.json', 'model.h5')"
   ]
  },
  {
   "cell_type": "code",
   "execution_count": 21,
   "metadata": {
    "collapsed": false
   },
   "outputs": [],
   "source": [
    "def make_prefix_prediction(end):\n",
    "    df = log[:600].copy()\n",
    "    df['predicted_steering_angle'] = steering_model.predict_on_batch(\n",
    "        batch.make_batch(\n",
    "            df,\n",
    "            label_column=batch_params['label_column'],\n",
    "            side_camera_bias=None)[0])\n",
    "    return df\n",
    "log_prefix_with_prediction = make_prefix_prediction(600)"
   ]
  },
  {
   "cell_type": "code",
   "execution_count": 22,
   "metadata": {
    "collapsed": false
   },
   "outputs": [
    {
     "data": {
      "image/png": "[encoded data removed]",
      "text/plain": [
       "<matplotlib.figure.Figure at 0x7f49e6a73518>"
      ]
     },
     "metadata": {},
     "output_type": "display_data"
    }
   ],
   "source": [
    "def plot_predicted_steering_angle():\n",
    "    df = log_prefix_with_prediction[\n",
    "        ['time', 'steering_angle', batch_params['label_column'], 'predicted_steering_angle']]\n",
    "    df = df.set_index(['time'])\n",
    "    df.plot(figsize=(12, 6))\n",
    "plot_predicted_steering_angle()"
   ]
  },
  {
   "cell_type": "code",
   "execution_count": 22,
   "metadata": {
    "collapsed": false
   },
   "outputs": [
    {
     "name": "stdout",
     "output_type": "stream",
     "text": [
      "frame 0\n",
      "frame 50\n",
      "frame 100\n",
      "frame 150\n",
      "frame 200\n",
      "frame 250\n",
      "frame 300\n",
      "frame 350\n",
      "frame 400\n",
      "frame 450\n",
      "frame 500\n",
      "frame 550\n"
     ]
    }
   ],
   "source": [
    "make_steering_movie('test', log_prefix_with_prediction, batch_params['label_column'], 'predicted_steering_angle')"
   ]
  },
  {
   "cell_type": "code",
   "execution_count": null,
   "metadata": {
    "collapsed": false
   },
   "outputs": [],
   "source": [
    "import itertools\n",
    "\n",
    "# From http://stackoverflow.com/a/40623158/2053820\n",
    "def dict_product(dicts):\n",
    "    \"\"\"\n",
    "    >>> list(dict_product(dict(number=[1,2], character='ab')))\n",
    "    [{'character': 'a', 'number': 1},\n",
    "     {'character': 'a', 'number': 2},\n",
    "     {'character': 'b', 'number': 1},\n",
    "     {'character': 'b', 'number': 2}]\n",
    "    \"\"\"\n",
    "    return (dict(zip(dicts, x)) for x in itertools.product(*dicts.values()))\n",
    "\n",
    "def make_model_key_stem(key):\n",
    "    stem = os.path.join('models', 'grid_model_')\n",
    "    for param, value in key.items():\n",
    "        if value is None: value = ''\n",
    "        stem += param + '-' + str(value)\n",
    "    return stem"
   ]
  },
  {
   "cell_type": "code",
   "execution_count": null,
   "metadata": {
    "collapsed": false,
    "scrolled": true
   },
   "outputs": [],
   "source": [
    "def search():\n",
    "    results_file = 'grid.pickle'\n",
    "    if os.path.isfile(results_file):\n",
    "        with open(results_file, 'rb') as f:\n",
    "            results = pickle.load(f)\n",
    "    else:\n",
    "        results = {}\n",
    "    \n",
    "    keys = {\n",
    "        'version': [2,3,4],\n",
    "        'nb_epoch': [30],\n",
    "        'side_camera_bias': [None],\n",
    "        'label_column': ['smooth_steering_angle_gaussian_3'],\n",
    "        'batch_size': [128],\n",
    "        'nb_filter': [64, 128],\n",
    "        'nb_hidden': [64, 32],\n",
    "        'l2_weight': [0.001, 0.005, 0.01],\n",
    "        'optimizer': ['adam', 'adagrad']\n",
    "    }\n",
    "    \n",
    "    input_shape = np.load(log['bottleneck_features'].values[0])['center_image'].shape\n",
    "        \n",
    "    for key in dict_product(keys):\n",
    "        print(key)\n",
    "        frozen_key = frozenset(key.items())\n",
    "        if frozen_key in results:\n",
    "            continue\n",
    "        print('Running...')\n",
    "        \n",
    "        key_stem = make_model_key_stem(key)\n",
    "        model_json = key_stem + '.json'\n",
    "        model_weights_h5 = key_stem + '.h5'\n",
    "        \n",
    "        key = key.copy()\n",
    "        del key['version']\n",
    "        \n",
    "        steering_model = model.build(\n",
    "            input_shape,\n",
    "            nb_filter=key.pop('nb_filter'),\n",
    "            nb_hidden=key.pop('nb_hidden'),\n",
    "            l2_weight=key.pop('l2_weight'),\n",
    "            optimizer=key.pop('optimizer'))\n",
    "        \n",
    "        history = model.train(\n",
    "            steering_model,\n",
    "            log,\n",
    "            label_column=key.pop('label_column'),\n",
    "            test_size=0.2,\n",
    "            nb_epoch=key.pop('nb_epoch'),\n",
    "            batch_size=key.pop('batch_size'),\n",
    "            side_camera_bias=key.pop('side_camera_bias'),\n",
    "            save_stem=key_stem)\n",
    "        \n",
    "        steering_model.load_weights(model_weights_h5) # best weights\n",
    "        \n",
    "        model_io.save_model(model_json, model_weights_h5, steering_model)\n",
    "                    \n",
    "        results[frozen_key] = {\n",
    "            'history': history.history,\n",
    "            'model_json': model_json,\n",
    "            'model_weights_h5': model_weights_h5\n",
    "        }\n",
    "        \n",
    "        with open(results_file, 'wb') as f:\n",
    "            pickle.dump(results, f, pickle.HIGHEST_PROTOCOL)\n",
    "\n",
    "    return results  \n",
    "\n",
    "grid = search()"
   ]
  },
  {
   "cell_type": "markdown",
   "metadata": {
    "collapsed": true
   },
   "source": [
    "TODO\n",
    "\n",
    "- there is a wiggle in ccw_recover_from_left_1 at about 0:42"
   ]
  },
  {
   "cell_type": "code",
   "execution_count": null,
   "metadata": {
    "collapsed": false
   },
   "outputs": [],
   "source": [
    "def summarize_grid(grid, val_loss_threshold):\n",
    "    \"\"\"\n",
    "    Print out the more promising hyperparameters from a search, according to\n",
    "    validation loss.\n",
    "    \"\"\"\n",
    "    best_val_loss = 1e9\n",
    "    best_params = None\n",
    "    items = sorted(grid, key = lambda k: min(grid[k]['history']['val_loss']))\n",
    "    for frozen_key in items:\n",
    "        value = grid[frozen_key]\n",
    "        key = dict(frozen_key)\n",
    "        val_loss = value['history']['val_loss']\n",
    "        min_val_loss = min(val_loss)\n",
    "        nb_epochs = len(val_loss)\n",
    "        if min_val_loss < val_loss_threshold:\n",
    "            print(key, min_val_loss, nb_epochs)\n",
    "            print('cp', value['model_json'], 'model.json')\n",
    "            print('cp', value['model_weights_h5'], 'model.h5')\n",
    "            print('python drive.py model.json')\n",
    "            print()\n",
    "        if min_val_loss < best_val_loss:\n",
    "            best_val_loss = min_val_loss\n",
    "            best_params = key\n",
    "    print('BEST:', best_params, best_val_loss)\n",
    "summarize_grid(grid, 0.005)"
   ]
  },
  {
   "cell_type": "code",
   "execution_count": null,
   "metadata": {
    "collapsed": true
   },
   "outputs": [],
   "source": [
    "results_file = 'grid.pickle'\n",
    "if os.path.isfile(results_file):\n",
    "    with open(results_file, 'rb') as f:\n",
    "        grid = pickle.load(f)\n"
   ]
  },
  {
   "cell_type": "code",
   "execution_count": null,
   "metadata": {
    "collapsed": true
   },
   "outputs": [],
   "source": [
    "import batch"
   ]
  },
  {
   "cell_type": "code",
   "execution_count": null,
   "metadata": {
    "collapsed": false
   },
   "outputs": [],
   "source": []
  },
  {
   "cell_type": "code",
   "execution_count": null,
   "metadata": {
    "collapsed": true
   },
   "outputs": [],
   "source": []
  }
 ],
 "metadata": {
  "anaconda-cloud": {},
  "kernelspec": {
   "display_name": "Python [conda root]",
   "language": "python",
   "name": "conda-root-py"
  },
  "language_info": {
   "codemirror_mode": {
    "name": "ipython",
    "version": 3
   },
   "file_extension": ".py",
   "mimetype": "text/x-python",
   "name": "python",
   "nbconvert_exporter": "python",
   "pygments_lexer": "ipython3",
   "version": "3.5.2"
  }
 },
 "nbformat": 4,
 "nbformat_minor": 1
}
